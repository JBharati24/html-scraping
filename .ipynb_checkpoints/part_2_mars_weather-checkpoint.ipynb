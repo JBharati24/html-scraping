{
 "cells": [
  {
   "cell_type": "markdown",
   "metadata": {},
   "source": [
    "# Module 12 Challenge\n",
    "## Deliverable 2: Scrape and Analyze Mars Weather Data"
   ]
  },
  {
   "cell_type": "code",
   "execution_count": 1,
   "metadata": {},
   "outputs": [],
   "source": [
    "# Import relevant libraries\n",
    "from splinter import Browser\n",
    "from bs4 import BeautifulSoup\n",
    "import matplotlib.pyplot as plt\n",
    "import pandas as pd"
   ]
  },
  {
   "cell_type": "code",
   "execution_count": 2,
   "metadata": {},
   "outputs": [],
   "source": [
    "browser = Browser('chrome')"
   ]
  },
  {
   "cell_type": "markdown",
   "metadata": {},
   "source": [
    "### Step 1: Visit the Website\n",
    "\n",
    "Use automated browsing to visit the [Mars Temperature Data Site](https://static.bc-edx.com/data/web/mars_facts/temperature.html). Inspect the page to identify which elements to scrape.\n",
    "\n",
    "   > **Hint** To identify which elements to scrape, you might want to inspect the page by using Chrome DevTools to discover whether the table contains usable classes.\n"
   ]
  },
  {
   "cell_type": "code",
   "execution_count": 3,
   "metadata": {},
   "outputs": [],
   "source": [
    "# Visit the website\n",
    "# https://static.bc-edx.com/data/web/mars_facts/temperature.html\n",
    "url = \"https://static.bc-edx.com/data/web/mars_facts/temperature.html\"\n",
    "browser.visit(url)"
   ]
  },
  {
   "cell_type": "markdown",
   "metadata": {},
   "source": [
    "### Step 2: Scrape the Table\n",
    "\n",
    "Create a Beautiful Soup object and use it to scrape the data in the HTML table.\n",
    "\n",
    "Note that this can also be achieved by using the Pandas `read_html` function. However, use Beautiful Soup here to continue sharpening your web scraping skills."
   ]
  },
  {
   "cell_type": "code",
   "execution_count": 4,
   "metadata": {},
   "outputs": [],
   "source": [
    "# Create a Beautiful Soup Object\n",
    "html = browser.html\n",
    "soup = BeautifulSoup(html, 'html.parser')"
   ]
  },
  {
   "cell_type": "code",
   "execution_count": 5,
   "metadata": {},
   "outputs": [],
   "source": [
    "# Extract all rows of data\n",
    "table = soup.find('table', class_='table')"
   ]
  },
  {
   "cell_type": "markdown",
   "metadata": {},
   "source": [
    "### Step 3: Store the Data\n",
    "\n",
    "Assemble the scraped data into a Pandas DataFrame. The columns should have the same headings as the table on the website. Here’s an explanation of the column headings:\n",
    "\n",
    "* `id`: the identification number of a single transmission from the Curiosity rover\n",
    "* `terrestrial_date`: the date on Earth\n",
    "* `sol`: the number of elapsed sols (Martian days) since Curiosity landed on Mars\n",
    "* `ls`: the solar longitude\n",
    "* `month`: the Martian month\n",
    "* `min_temp`: the minimum temperature, in Celsius, of a single Martian day (sol)\n",
    "* `pressure`: The atmospheric pressure at Curiosity's location"
   ]
  },
  {
   "cell_type": "code",
   "execution_count": 6,
   "metadata": {},
   "outputs": [],
   "source": [
    "# Create an empty list\n",
    "rows = []\n",
    "\n",
    "# Loop through the scraped data to create a list of rows\n",
    "for row in table.find_all('tr')[1:]:\n",
    "    # Find all the cells in the row\n",
    "    cols = row.find_all('td')\n",
    "    # Extract text from each cell and strip any leading or trailing whitespace\n",
    "    cols = [ele.text.strip() for ele in cols]\n",
    "    # Append the list of cell data to the rows list\n",
    "    rows.append(cols)"
   ]
  },
  {
   "cell_type": "code",
   "execution_count": 7,
   "metadata": {},
   "outputs": [],
   "source": [
    "# Create a Pandas DataFrame by using the list of rows and a list of the column names\n",
    "# Define the columns\n",
    "columns = ['id', 'terrestrial_date', 'sol', 'ls', 'month', 'min_temp', 'pressure']\n",
    "\n",
    "# Create a Pandas DataFrame\n",
    "df = pd.DataFrame(rows, columns=columns)"
   ]
  },
  {
   "cell_type": "code",
   "execution_count": 8,
   "metadata": {},
   "outputs": [
    {
     "name": "stdout",
     "output_type": "stream",
     "text": [
      "   id terrestrial_date sol   ls month min_temp pressure\n",
      "0   2       2012-08-16  10  155     6    -75.0    739.0\n",
      "1  13       2012-08-17  11  156     6    -76.0    740.0\n",
      "2  24       2012-08-18  12  156     6    -76.0    741.0\n",
      "3  35       2012-08-19  13  157     6    -74.0    732.0\n",
      "4  46       2012-08-20  14  157     6    -74.0    740.0\n"
     ]
    }
   ],
   "source": [
    "# Confirm DataFrame was created successfully\n",
    "print(df.head())"
   ]
  },
  {
   "cell_type": "markdown",
   "metadata": {},
   "source": [
    "### Step 4: Prepare Data for Analysis\n",
    "\n",
    "Examine the data types that are currently associated with each column. If necessary, cast (or convert) the data to the appropriate `datetime`, `int`, or `float` data types.\n",
    "\n",
    "  > **Hint** You can use the Pandas `astype` and `to_datetime` methods to accomplish this task.\n"
   ]
  },
  {
   "cell_type": "code",
   "execution_count": 9,
   "metadata": {},
   "outputs": [
    {
     "data": {
      "text/plain": [
       "id                  object\n",
       "terrestrial_date    object\n",
       "sol                 object\n",
       "ls                  object\n",
       "month               object\n",
       "min_temp            object\n",
       "pressure            object\n",
       "dtype: object"
      ]
     },
     "execution_count": 9,
     "metadata": {},
     "output_type": "execute_result"
    }
   ],
   "source": [
    "# Examine data type of each column\n",
    "df.dtypes"
   ]
  },
  {
   "cell_type": "code",
   "execution_count": 10,
   "metadata": {},
   "outputs": [],
   "source": [
    "# Change data types for data analysis\n",
    "# Convert columns to appropriate data types\n",
    "df['id'] = pd.to_numeric(df['id'], errors='coerce')\n",
    "df['sol'] = pd.to_numeric(df['sol'], errors='coerce')\n",
    "df['ls'] = pd.to_numeric(df['ls'], errors='coerce')\n",
    "df['month'] = pd.to_numeric(df['month'], errors='coerce')  # Corrected to use df\n",
    "df['terrestrial_date'] = pd.to_datetime(df['terrestrial_date'], errors='coerce')\n",
    "df['min_temp'] = df['min_temp'].astype(float)\n",
    "df['pressure'] = df['pressure'].astype(float)"
   ]
  },
  {
   "cell_type": "code",
   "execution_count": 11,
   "metadata": {},
   "outputs": [
    {
     "name": "stdout",
     "output_type": "stream",
     "text": [
      "id                           int64\n",
      "terrestrial_date    datetime64[ns]\n",
      "sol                          int64\n",
      "ls                           int64\n",
      "month                        int64\n",
      "min_temp                   float64\n",
      "pressure                   float64\n",
      "dtype: object\n"
     ]
    }
   ],
   "source": [
    "# Confirm type changes were successful by examining data types again\n",
    "print(df.dtypes)"
   ]
  },
  {
   "cell_type": "markdown",
   "metadata": {},
   "source": [
    "### Step 5: Analyze the Data\n",
    "\n",
    "Analyze your dataset by using Pandas functions to answer the following questions:\n",
    "\n",
    "1. How many months exist on Mars?\n",
    "2. How many Martian (and not Earth) days worth of data exist in the scraped dataset?\n",
    "3. What are the coldest and the warmest months on Mars (at the location of Curiosity)? To answer this question:\n",
    "    * Find the average the minimum daily temperature for all of the months.\n",
    "    * Plot the results as a bar chart.\n",
    "4. Which months have the lowest and the highest atmospheric pressure on Mars? To answer this question:\n",
    "    * Find the average the daily atmospheric pressure of all the months.\n",
    "    * Plot the results as a bar chart.\n",
    "5. About how many terrestrial (Earth) days exist in a Martian year? To answer this question:\n",
    "    * Consider how many days elapse on Earth in the time that Mars circles the Sun once.\n",
    "    * Visually estimate the result by plotting the daily minimum temperature.\n"
   ]
  },
  {
   "cell_type": "code",
   "execution_count": 12,
   "metadata": {},
   "outputs": [
    {
     "name": "stdout",
     "output_type": "stream",
     "text": [
      "Number of months on Mars: 12\n"
     ]
    }
   ],
   "source": [
    "# 1. How many months exist on Mars?\n",
    "num_months = df['month'].nunique()\n",
    "print(f\"Number of months on Mars: {num_months}\")"
   ]
  },
  {
   "cell_type": "code",
   "execution_count": 13,
   "metadata": {},
   "outputs": [
    {
     "name": "stdout",
     "output_type": "stream",
     "text": [
      "Number of Martian days' worth of data: 1867\n"
     ]
    }
   ],
   "source": [
    "# 2. How many Martian days' worth of data are there?\n",
    "num_days = df['sol'].nunique()\n",
    "print(f\"Number of Martian days' worth of data: {num_days}\")"
   ]
  },
  {
   "cell_type": "code",
   "execution_count": 14,
   "metadata": {},
   "outputs": [
    {
     "data": {
      "text/plain": [
       "month\n",
       "1    -77.160920\n",
       "2    -79.932584\n",
       "3    -83.307292\n",
       "4    -82.747423\n",
       "5    -79.308725\n",
       "6    -75.299320\n",
       "7    -72.281690\n",
       "8    -68.382979\n",
       "9    -69.171642\n",
       "10   -71.982143\n",
       "11   -71.985507\n",
       "12   -74.451807\n",
       "Name: min_temp, dtype: float64"
      ]
     },
     "execution_count": 14,
     "metadata": {},
     "output_type": "execute_result"
    }
   ],
   "source": [
    "# 3. What is the average low temperature by month?\n",
    "average_low_temp = df[\"min_temp\"].groupby(df['month']).mean()\n",
    "average_low_temp"
   ]
  },
  {
   "cell_type": "code",
   "execution_count": 15,
   "metadata": {},
   "outputs": [
    {
     "data": {
      "text/plain": [
       "Text(0, 0.5, 'average_low_temp')"
      ]
     },
     "execution_count": 15,
     "metadata": {},
     "output_type": "execute_result"
    },
    {
     "data": {
      "image/png": "[encoded data removed]",
      "text/plain": [
       "<Figure size 640x480 with 1 Axes>"
      ]
     },
     "metadata": {},
     "output_type": "display_data"
    }
   ],
   "source": [
    "# Plot the average temperature by month\n",
    "average_low_temp.plot.bar(rot = 0)\n",
    "plt.ylabel(\"average_low_temp\")"
   ]
  },
  {
   "cell_type": "code",
   "execution_count": 16,
   "metadata": {},
   "outputs": [
    {
     "name": "stdout",
     "output_type": "stream",
     "text": [
      "Month #8 had the hottest average temperature of -68.38297872340425\n",
      "Month #3 had the coldest average temperature of -83.30729166666667\n"
     ]
    }
   ],
   "source": [
    "# Identify the coldest and hottest months in Curiosity's location\n",
    "hottest_month = average_low_temp.idxmax()\n",
    "hottest_month_temp = average_low_temp.max()\n",
    "coldest_month = average_low_temp.idxmin()\n",
    "coldest_month_temp = average_low_temp.min()\n",
    "print(f\"Month #{hottest_month} had the hottest average temperature of {hottest_month_temp}\")\n",
    "print(f\"Month #{coldest_month} had the coldest average temperature of {coldest_month_temp}\")"
   ]
  },
  {
   "cell_type": "code",
   "execution_count": 17,
   "metadata": {},
   "outputs": [
    {
     "data": {
      "text/plain": [
       "month\n",
       "1     862.488506\n",
       "2     889.455056\n",
       "3     877.322917\n",
       "4     806.329897\n",
       "5     748.557047\n",
       "6     745.054422\n",
       "7     795.105634\n",
       "8     873.829787\n",
       "9     913.305970\n",
       "10    887.312500\n",
       "11    857.014493\n",
       "12    842.156627\n",
       "Name: pressure, dtype: float64"
      ]
     },
     "execution_count": 17,
     "metadata": {},
     "output_type": "execute_result"
    }
   ],
   "source": [
    "# 4. Average pressure by Martian month\n",
    "avg_pressure_monthly = df[\"pressure\"].groupby(df[\"month\"]).mean()\n",
    "avg_pressure_monthly"
   ]
  },
  {
   "cell_type": "code",
   "execution_count": 18,
   "metadata": {},
   "outputs": [
    {
     "data": {
      "text/plain": [
       "Text(0, 0.5, 'Pressure (mmHg)')"
      ]
     },
     "execution_count": 18,
     "metadata": {},
     "output_type": "execute_result"
    },
    {
     "data": {
      "image/png": "[encoded data removed]",
      "text/plain": [
       "<Figure size 640x480 with 1 Axes>"
      ]
     },
     "metadata": {},
     "output_type": "display_data"
    }
   ],
   "source": [
    "# Plot the average pressure by month\n",
    "avg_pressure_monthly.plot.bar(rot=0)\n",
    "plt.ylabel(\"Pressure (mmHg)\")"
   ]
  },
  {
   "cell_type": "code",
   "execution_count": 19,
   "metadata": {},
   "outputs": [
    {
     "data": {
      "image/png": "[encoded data removed]",
      "text/plain": [
       "<Figure size 640x480 with 1 Axes>"
      ]
     },
     "metadata": {},
     "output_type": "display_data"
    }
   ],
   "source": [
    "# 5. How many terrestrial (earth) days are there in a Martian year?\n",
    "new_mars_df = df.set_index(\"terrestrial_date\")\n",
    "new_mars_df\n",
    "# Plot the daily minimum temperature to estimate the Martian year length\n",
    "df.plot(x='terrestrial_date', y='min_temp', kind='line', title='Daily Minimum Temperature on Mars')\n",
    "plt.xlabel('Terrestrial Date')\n",
    "plt.ylabel('Minimum Temperature (Celsius)')\n",
    "plt.show()"
   ]
  },
  {
   "cell_type": "markdown",
   "metadata": {},
   "source": [
    "On average, the third month has the coldest minimum temperature on Mars, and the eighth month is the warmest. But it is always very cold there in human terms!\n",
    "\n"
   ]
  },
  {
   "cell_type": "markdown",
   "metadata": {},
   "source": [
    "Atmospheric pressure is, on average, lowest in the sixth month and highest in the ninth."
   ]
  },
  {
   "cell_type": "markdown",
   "metadata": {},
   "source": [
    "The distance from peak to peak is roughly 1425-750, or 675 days. A year on Mars appears to be about 675 days from the plot. Internet search confirms that a Mars year is equivalent to 687 earth days."
   ]
  },
  {
   "cell_type": "markdown",
   "metadata": {},
   "source": [
    "### Step 6: Save the Data\n",
    "\n",
    "Export the DataFrame to a CSV file."
   ]
  },
  {
   "cell_type": "code",
   "execution_count": 20,
   "metadata": {},
   "outputs": [
    {
     "name": "stdout",
     "output_type": "stream",
     "text": [
      "Data saved to 'mars_weather_data.csv'\n"
     ]
    }
   ],
   "source": [
    "# Write the data to a CSV\n",
    "df.to_csv('mars_weather_data.csv', index=False)\n",
    "print(\"Data saved to 'mars_weather_data.csv'\")"
   ]
  },
  {
   "cell_type": "code",
   "execution_count": 21,
   "metadata": {},
   "outputs": [],
   "source": [
    "browser.quit()"
   ]
  }
 ],
 "metadata": {
  "kernelspec": {
   "display_name": "Python 3 (ipykernel)",
   "language": "python",
   "name": "python3"
  },
  "language_info": {
   "codemirror_mode": {
    "name": "ipython",
    "version": 3
   },
   "file_extension": ".py",
   "mimetype": "text/x-python",
   "name": "python",
   "nbconvert_exporter": "python",
   "pygments_lexer": "ipython3",
   "version": "3.11.7"
  },
  "vscode": {
   "interpreter": {
    "hash": "31f2aee4e71d21fbe5cf8b01ff0e069b9275f58929596ceb00d14d90e3e16cd6"
   }
  }
 },
 "nbformat": 4,
 "nbformat_minor": 4
}
